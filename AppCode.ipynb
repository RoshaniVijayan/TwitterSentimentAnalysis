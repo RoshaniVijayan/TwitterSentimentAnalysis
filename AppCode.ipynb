{
  "nbformat": 4,
  "nbformat_minor": 0,
  "metadata": {
    "colab": {
      "provenance": [],
      "authorship_tag": "ABX9TyOT3oiSktfzErXzUZL7oZH+",
      "include_colab_link": true
    },
    "kernelspec": {
      "name": "python3",
      "display_name": "Python 3"
    },
    "language_info": {
      "name": "python"
    }
  },
  "cells": [
    {
      "cell_type": "markdown",
      "metadata": {
        "id": "view-in-github",
        "colab_type": "text"
      },
      "source": [
        "<a href=\"https://colab.research.google.com/github/RoshaniVijayan/TwitterSentimentAnalysis/blob/main/AppCode.ipynb\" target=\"_parent\"><img src=\"https://colab.research.google.com/assets/colab-badge.svg\" alt=\"Open In Colab\"/></a>"
      ]
    },
    {
      "cell_type": "code",
      "execution_count": 1,
      "metadata": {
        "colab": {
          "base_uri": "https://localhost:8080/"
        },
        "id": "BA-9HDbOlmyJ",
        "outputId": "91ced65e-0cbf-41eb-8e93-2c4bac3b3e8a"
      },
      "outputs": [
        {
          "output_type": "stream",
          "name": "stdout",
          "text": [
            "Writing app.py\n"
          ]
        }
      ],
      "source": [
        "%%writefile app.py\n",
        "\n",
        "# Import necessary libraries\n",
        "import streamlit as st\n",
        "import pickle\n",
        "import time\n",
        "import requests\n",
        "from io import BytesIO\n",
        "\n",
        "# Function to download model file from Google Drive\n",
        "def download_model_file_from_google_drive(file_id, file_name):\n",
        "    url = \"https://drive.google.com/uc?id=\" + file_id\n",
        "    response = requests.get(url)\n",
        "    file = open(file_name, \"wb\")\n",
        "    file.write(response.content)\n",
        "    file.close()\n",
        "\n",
        "# Define the app title\n",
        "st.title('Twitter Sentiment Analysis')\n",
        "\n",
        "# Upload the sentiment analysis model file\n",
        "file_id = \"1a3vNrSW5WVUgJzDoBMwjETerNZfsapC8\"  # Google Drive file ID\n",
        "model_file_name = \"twitter_sentiment.pkl\"\n",
        "\n",
        "download_model_file_from_google_drive(file_id, model_file_name)\n",
        "\n",
        "# Load the model\n",
        "with open(model_file_name, 'rb') as model_file:\n",
        "    model = pickle.load(model_file)\n",
        "\n",
        "    # Add a text input field for the user to input the tweet\n",
        "    tweet = st.text_input('Enter your tweet')\n",
        "\n",
        "    # Add a button to submit the tweet for prediction\n",
        "    submit = st.button('Predict')\n",
        "\n",
        "    # When the user submits the tweet\n",
        "    if submit:\n",
        "        # Measure prediction time\n",
        "        start = time.time()\n",
        "        # Predict the sentiment of the tweet\n",
        "        prediction = model.predict([tweet])\n",
        "        end = time.time()\n",
        "        # Display prediction time\n",
        "        st.write('Prediction time taken: ', round(end-start, 2), 'seconds')\n",
        "        # Display the predicted sentiment\n",
        "        st.write('Predicted Sentiment:', prediction[0])\n"
      ]
    }
  ]
}